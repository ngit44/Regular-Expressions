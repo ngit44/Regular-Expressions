{
 "cells": [
  {
   "cell_type": "markdown",
   "id": "09f4e749-fdf3-4cfa-ba10-3af3e32b86c1",
   "metadata": {},
   "source": [
    "# Title: Extracting Information from Emails using Regular Expressions"
   ]
  },
  {
   "cell_type": "code",
   "execution_count": 1,
   "id": "cb0259e6-6898-482a-b64d-71ff4cd1eec3",
   "metadata": {},
   "outputs": [],
   "source": [
    "import re\n",
    "import pandas as pd"
   ]
  },
  {
   "cell_type": "code",
   "execution_count": 2,
   "id": "68b0ad8d-e4ef-46e6-9b9b-c544c5ff7352",
   "metadata": {},
   "outputs": [],
   "source": [
    "# Sample dataset of financial emails\n",
    "sample_emails = [\n",
    "    \"\"\"Hello John,\n",
    "\n",
    "    Your transaction of $1,250.75 on 2024-08-21 to account number ACC987654321 has been processed. \n",
    "    If you did not authorize this, please contact us at fraud@bankingcorp.com.\n",
    "\n",
    "    Thank you,\n",
    "    Banking Corp\"\"\",\n",
    "\n",
    "    \"\"\"Dear Lisa,\n",
    "\n",
    "    A withdrawal of $3,500.00 was made from your account ACC123456789 on 2025-01-15.\n",
    "    Contact support@securebank.com if this wasn’t you.\n",
    "\n",
    "    Regards,\n",
    "    SecureBank\"\"\",\n",
    "\n",
    "    \"\"\"Hi Mark,\n",
    "\n",
    "    We noticed a login from a new device on 2025-03-10.\n",
    "    Your account (ACC456789123) remains secure.\n",
    "    Any issues? Reach us at help@mybank.org.\n",
    "\n",
    "    Best,\n",
    "    MyBank Security\"\"\",\n",
    "\n",
    "    \"\"\"Hello Negin,\n",
    "\n",
    "    A charge of $999.99 was posted on 2024-12-02 to your card ending in 1234. \n",
    "    If this was not your purchase, notify us at billing@financesafe.ca.\n",
    "\n",
    "    Regards,\n",
    "    FinanceSafe\"\"\"\n",
    "]\n"
   ]
  },
  {
   "cell_type": "code",
   "execution_count": 3,
   "id": "f2abb2d6-64b3-4604-8246-cdf37f475ef7",
   "metadata": {},
   "outputs": [],
   "source": [
    "# Function to extract relevant information using regex\n",
    "def extract_info(text):\n",
    "    name = re.findall(r\"Hello\\s+([A-Z][a-z]+)|Dear\\s+([A-Z][a-z]+)|Hi\\s+([A-Z][a-z]+)\", text)\n",
    "    date = re.findall(r\"\\d{4}-\\d{2}-\\d{2}\", text)\n",
    "    amount = re.findall(r\"\\$\\d{1,3}(?:,\\d{3})*(?:\\.\\d{2})?\", text)\n",
    "    account = re.findall(r\"ACC\\d+\", text)\n",
    "    email = re.findall(r\"[a-zA-Z0-9_.+-]+@[a-zA-Z0-9-]+\\.[a-zA-Z0-9-.]+\", text)\n",
    "\n",
    "    return {\n",
    "        \"name\": next((n for group in name for n in group if n), None),\n",
    "        \"date\": date[0] if date else None,\n",
    "        \"amount\": amount[0] if amount else None,\n",
    "        \"account_number\": account[0] if account else None,\n",
    "        \"email\": email[0] if email else None,\n",
    "    }"
   ]
  },
  {
   "cell_type": "code",
   "execution_count": 4,
   "id": "60995b7a-a120-467b-9352-72d5605fa441",
   "metadata": {},
   "outputs": [
    {
     "name": "stdout",
     "output_type": "stream",
     "text": [
      "\n",
      "Extracted Information:\n",
      "    name        date     amount account_number                    email\n",
      "0   John  2024-08-21  $1,250.75   ACC987654321   fraud@bankingcorp.com.\n",
      "1   Lisa  2025-01-15  $3,500.00   ACC123456789   support@securebank.com\n",
      "2   Mark  2025-03-10       None   ACC456789123         help@mybank.org.\n",
      "3  Negin  2024-12-02    $999.99           None  billing@financesafe.ca.\n",
      "\n",
      "Saved results to 'extracted_financial_info.csv'\n"
     ]
    }
   ],
   "source": [
    "# Apply extraction to each email\n",
    "results = [extract_info(email) for email in sample_emails]\n",
    "\n",
    "# Convert results to a DataFrame\n",
    "df = pd.DataFrame(results)\n",
    "\n",
    "# Show the DataFrame\n",
    "print(\"\\nExtracted Information:\")\n",
    "print(df)\n",
    "\n",
    "# Save to a CSV file\n",
    "df.to_csv(\"extracted_financial_info.csv\", index=False)\n",
    "print(\"\\nSaved results to 'extracted_financial_info.csv'\")"
   ]
  },
  {
   "cell_type": "code",
   "execution_count": null,
   "id": "7bf897b8-e28d-451a-adb0-57132ce03435",
   "metadata": {},
   "outputs": [],
   "source": []
  }
 ],
 "metadata": {
  "kernelspec": {
   "display_name": "Python 3 (ipykernel)",
   "language": "python",
   "name": "python3"
  },
  "language_info": {
   "codemirror_mode": {
    "name": "ipython",
    "version": 3
   },
   "file_extension": ".py",
   "mimetype": "text/x-python",
   "name": "python",
   "nbconvert_exporter": "python",
   "pygments_lexer": "ipython3",
   "version": "3.10.0"
  }
 },
 "nbformat": 4,
 "nbformat_minor": 5
}
